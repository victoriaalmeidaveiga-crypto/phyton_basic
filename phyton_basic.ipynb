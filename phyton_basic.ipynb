{
  "nbformat": 4,
  "nbformat_minor": 0,
  "metadata": {
    "colab": {
      "provenance": [],
      "authorship_tag": "ABX9TyN4taE0TzNSBF5C/ohrINCw",
      "include_colab_link": true
    },
    "kernelspec": {
      "name": "python3",
      "display_name": "Python 3"
    },
    "language_info": {
      "name": "python"
    }
  },
  "cells": [
    {
      "cell_type": "markdown",
      "metadata": {
        "id": "view-in-github",
        "colab_type": "text"
      },
      "source": [
        "<a href=\"https://colab.research.google.com/github/victoriaalmeidaveiga-crypto/phyton_basic/blob/main/phyton_basic.ipynb\" target=\"_parent\"><img src=\"https://colab.research.google.com/assets/colab-badge.svg\" alt=\"Open In Colab\"/></a>"
      ]
    },
    {
      "cell_type": "markdown",
      "source": [
        "Desafio em PYTHON.\n",
        "\n",
        "AULA 02\n",
        "\n",
        "Contexto:\n",
        "Uma escola está promovendo uma campanha de incentivo à leitura, em que cada estudante recebe pontos ao concluir livros. Esses pontos podem ser trocados por diferentes premios da escola. As categorias de livros têm valores de pontos diferentes:\n",
        "Livro de ficção: 10 pontos\n",
        "Livro de não-ficção: 8 pontos\n",
        "Livro infantil: 6 pontos\n",
        "Rodrigo leu um livro de cada categoria. Agora ele quer saber quantos pontos acumulou com sua leitura.\n",
        "Nosso objetivo é criar um programa em Python que:\n",
        "Armazene a pontuação de cada categoria de livro em uma variável.\n",
        "Calcule o total de pontos acumulados por Rodrigo.\n",
        "Mostre na tela o total de pontos acumulados por Rodrigo."
      ],
      "metadata": {
        "id": "dg-k5IYVWlvg"
      }
    },
    {
      "cell_type": "code",
      "source": [
        "ficcao=10\n",
        "nficcao=8\n",
        "infantil=6\n",
        "\n",
        "livros_lidos = 9\n",
        "\n",
        "pontos = (ficcao + nficcao + infantil)\n",
        "\n",
        "pontos_totais = (ficcao*3 + nficcao*3 + infantil*3)\n",
        "\n",
        "print(f\"A soma dos pontos de Rodrigo, após tres dias é {pontos_totais}\")\n",
        "\n",
        "print(f\"A soma dos pontos de Rodrigo são {pontos}\")\n",
        "\n",
        "print(f\"Total de livros lidos por Rodrigo são {livros_lidos}\"\n"
      ],
      "metadata": {
        "id": "YjnnWVM3Wryh"
      },
      "execution_count": null,
      "outputs": []
    },
    {
      "cell_type": "markdown",
      "source": [
        "TESTE - PYTHON\n",
        "\n",
        "Elaborar um sistema de aprovação de estudantes;\n",
        "\n",
        "Nota >= 7 aprovado;\n",
        "Nota <7 e >4 recuperação;\n",
        "Nota < 4 reprovado;\n",
        "\n",
        "Pode colocar mensagens também."
      ],
      "metadata": {
        "id": "cZpNyLk83dg4"
      }
    },
    {
      "cell_type": "code",
      "source": [
        "portugues = 2;\n",
        "matematica=6;\n",
        "ingles=2;\n",
        "biologia=3;\n",
        "quimica=3;\n",
        "fisica=5;\n",
        "programacao=5;\n",
        "\n",
        "notas= {2,6,2,3,3,5,5}\n",
        "\n",
        "soma_notas = sum(notas)\n",
        "# função sum: possui a função de somar os termos;\n",
        "\n",
        "disciplinas = len(notas)\n",
        "# len: função para contar termos em um intervalo;\n",
        "\n",
        "media_notas = round((soma_notas / disciplinas),2)\n",
        "# round: função para arredondar valores, neste caso, duas casas decimais;\n",
        "\n",
        "print(f\"A soma das notas é: {soma_notas}\")\n",
        "print(f\"A media das notas é: {media_notas}\")\n",
        "\n",
        "if media_notas >= 7:\n",
        "  print(\"Aprovado\")\n",
        "  print(\"Parabéns\")\n",
        "  print(\"Continue assim\")\n",
        "\n",
        "  elif media_notas >= 4 and media_notas <7:\n",
        "    print(\"Recuperação\")\n",
        "    print(\"Estude mais\")\n",
        "    print(\"Não desista\")\n",
        "\n",
        "  else:\n",
        "    print(\"Reprovado\")\n",
        "    print(\"Estude mais\")\n",
        "    print(\"Não desista\")"
      ],
      "metadata": {
        "id": "LvR3eoMw3sJN"
      },
      "execution_count": null,
      "outputs": []
    },
    {
      "cell_type": "markdown",
      "source": [
        "Atividade 04 -\n",
        "\n",
        "Divisão do tesouro: https://olimpiada.ic.unicamp.br/passadas/OBI2020/fase1/programacao-b/\n",
        "\n",
        "A turma do 2º ano encontrou um envelope cheio de figurinhas. Para garantir uma divisão justa, todos concordaram com a sugestão de João, o dono do envelope:\n",
        "\n",
        "Cada amigo, exceto João, deve receber exatamente o mesmo número de figurinhas. João deve receber o dobro da quantidade que cada amigo recebe. Pode ser que o fato de João ser o dono do envelope tenha ajudado a convencer os amigos, mas também contribuiu o fato de que, do jeito proposto, a divisão era exata, sem sobrar nem faltar figurinhas.\n",
        "\n",
        "Crie um programa que determine a quantidade de figurinhas que João recebeu, dado o número total de figurinhas no envelope e o número de amigos de João.\n",
        "A primeira linha contém um número inteiro total_figurinhas, que representa o número de figurinhas no envelope.\n",
        "A segunda linha contém um número inteiro numero_amigos, que representa a quantidade de amigos de João (excluindo o próprio João)."
      ],
      "metadata": {
        "id": "6W8pettq4Cqu"
      }
    },
    {
      "cell_type": "code",
      "source": [
        "total_figurinhas = int(input(\"digite o total de figurinhas:\"))\n",
        "\n",
        "print() # A função print vazia, pula uma linha;\n",
        "\n",
        "numero_amigos = int(input(\"digite o numero de amigos:\"))\n",
        "\n",
        "print() # A função print vazia, pula uma linha;\n",
        "\n",
        "print(f\"Joao recebeu {figurinhas_joao} figurinhas\")\n",
        "\n",
        "figurinhas_amigos = total_figurinhas // (numero_amigos + 2)\n",
        "\n",
        "figurinhas_joao = 2 * figurinhas_amigtexto em itálicoos\n",
        "\n",
        "figurinhas_envelope = int(input(\"digite o total de figuirinhas envelope:\"))\n",
        "\n",
        "figurinhas_extra_mochila = int(input(\"digite o total de figurinhas da mochila do joao\"))\n",
        "\n",
        "pessoas = int(input(\"digite o total dos amigos de joao + joao:\"))\n",
        "\n",
        "total_figurinhas = figurinhas_extra_mochila + figurinhas_envelope\n",
        "\n",
        "total_pessoas = pessoas\n",
        "\n",
        "figurinha_cada_amigo = total_figurinhas // total_pessoas\n",
        "\n",
        "figurinhas_joao = figurinha_cada_amigo * 2\n",
        "\n",
        "print(f\"total de figurinhas: {total_figurinhas}\")\n",
        "\n",
        "print(f\"total de figurinhas de cada amigo: {figurinha_cada_amigo}\")\n",
        "\n",
        "print(f\"total de figurinhas de joao: {figurinhas_joao}\")\n"
      ],
      "metadata": {
        "id": "HBeWAsOf4Rw3"
      },
      "execution_count": null,
      "outputs": []
    },
    {
      "cell_type": "markdown",
      "source": [
        "DESAFIO - 05\n",
        "\n",
        "Agora, imagine que o jogo de flíper ficou mais complexo e há 3 portinhas que podem influenciar o caminho da bolinha.\n",
        "As portinhas funcionam da seguinte forma:\n",
        "A portinha P decide entre os caminhos iniciais.\n",
        "A portinha R ajusta o trajeto no meio.\n",
        "Uma nova portinha Q foi adicionada. Ela define se o caminho final incluirá uma letra extra, D, quando estiver na posição 1.\n",
        "Atualize o programa para incluir a lógica da terceira portinha:\n",
        "\n",
        "Se a portinha Q estiver na posição 1, deve ser exibida a letra D. No final do programa, continue imprimindo o caminho completo como antes."
      ],
      "metadata": {
        "id": "dA71IxnN4X9f"
      }
    },
    {
      "cell_type": "code",
      "source": [
        "total_figurinhas = int(input(\"digite o total de figurinhas:\"))\n",
        "\n",
        "print() # A função print vazia, pula uma linha;\n",
        "\n",
        "numero_amigos = int(input(\"digite o numero de amigos:\"))\n",
        "\n",
        "print() # A função print vazia, pula uma linha;\n",
        "\n",
        "print(f\"Joao recebeu {figurinhas_joao} figurinhas\")\n",
        "\n",
        "figurinhas_amigos = total_figurinhas // (numero_amigos + 2)\n",
        "\n",
        "figurinhas_joao = 2 * figurinhas_amigtexto em itálicoos\n",
        "\n",
        "figurinhas_envelope = int(input(\"digite o total de figuirinhas envelope:\"))\n",
        "\n",
        "figurinhas_extra_mochila = int(input(\"digite o total de figurinhas da mochila do joao\"))\n",
        "\n",
        "pessoas = int(input(\"digite o total dos amigos de joao + joao:\"))\n",
        "\n",
        "total_figurinhas = figurinhas_extra_mochila + figurinhas_envelope\n",
        "\n",
        "total_pessoas = pessoas\n",
        "\n",
        "figurinha_cada_amigo = total_figurinhas // total_pessoas\n",
        "\n",
        "figurinhas_joao = figurinha_cada_amigo * 2\n",
        "\n",
        "print(f\"total de figurinhas: {total_figurinhas}\")\n",
        "\n",
        "print(f\"total de figurinhas de cada amigo: {figurinha_cada_amigo}\")\n",
        "\n",
        "print(f\"total de figurinhas de joao: {figurinhas_joao}\")"
      ],
      "metadata": {
        "id": "Ekd3O4Gm4b6Q"
      },
      "execution_count": null,
      "outputs": []
    },
    {
      "cell_type": "markdown",
      "source": [
        "DESAFIO - 06\n",
        "\n",
        "Agora imagine que nós queremos descobrir qual livro da biblioteca tem a maior quantidade de páginas.\n",
        "\n",
        "Para isso nós começamos com os 5 maiores livros que pegamos da biblioteca da escola.\n",
        "\n",
        "O nosso programa vai precisar receber 5 números inteiros que representa a quantidade de páginas e imprimir um único número representando o maior número de páginas entre ele.\n",
        "\n",
        "Para isso, vocês precisam escrever um código usando uma função def que vocês vão nomear da forma que vocês acharem mais correta."
      ],
      "metadata": {
        "id": "YmoXrmzu4gZY"
      }
    },
    {
      "cell_type": "code",
      "source": [
        "DESAFIO - 06\n",
        "\n",
        "Agora imagine que nós queremos descobrir qual livro da biblioteca tem a maior quantidade de páginas.\n",
        "\n",
        "Para isso nós começamos com os 5 maiores livros que pegamos da biblioteca da escola.\n",
        "\n",
        "O nosso programa vai precisar receber 5 números inteiros que representa a quantidade de páginas e imprimir um único número representando o maior número de páginas entre ele.\n",
        "\n",
        "Para isso, vocês precisam escrever um código usando uma função def que vocês vão nomear da forma que vocês acharem mais correta."
      ],
      "metadata": {
        "id": "Q8FiH3am4krg"
      },
      "execution_count": null,
      "outputs": []
    },
    {
      "cell_type": "code",
      "source": [
        "print(\"Os alunos não fazem nada durante as aulas, ficam apenas no youtube e no celular.\")\n"
      ],
      "metadata": {
        "id": "DryGATcU4s1h"
      },
      "execution_count": null,
      "outputs": []
    },
    {
      "cell_type": "code",
      "source": [
        "ano = \"Nascimento do Alien\"\n",
        "print(ano, \"O Athletico foi roubado ontem na arena corinthians\")\n"
      ],
      "metadata": {
        "id": "O76BopG943kh"
      },
      "execution_count": null,
      "outputs": []
    },
    {
      "cell_type": "code",
      "source": [
        "print(f\"{ano} Competição de Phyton\")\n"
      ],
      "metadata": {
        "id": "ZAIN1YXg47l5"
      },
      "execution_count": null,
      "outputs": []
    }
  ]
}